{
 "cells": [
  {
   "cell_type": "code",
   "execution_count": 1,
   "metadata": {
    "collapsed": true
   },
   "outputs": [],
   "source": [
    "import pandas as pd\n",
    "import numpy as np\n",
    "# import scipy as sp\n",
    "from scipy import stats\n",
    "import matplotlib.pyplot as plt"
   ]
  },
  {
   "cell_type": "code",
   "execution_count": 2,
   "metadata": {},
   "outputs": [
    {
     "name": "stdout",
     "output_type": "stream",
     "text": [
      "Reading accident data for each year from 1975 to 2015.\n"
     ]
    }
   ],
   "source": [
    "# data source: https://www.nhtsa.gov/research-data/fatality-analysis-reporting-system-fars\n",
    "# read data from Data files and put them into a list of dataframes\n",
    "def readAccidentData():\n",
    "    FileList = [ \"FARS1975\",\"FARS1976\",\"FARS1977\",\"FARS1978\",\"FARS1979\",\"FARS1980\",\"FARS1981\",\"FARS1982\"\n",
    "            ,\"FARS1983\",\"FARS1984\",\"FARS1985\",\"FARS1986\",\"FARS1987\",\"FARS1988\",\"FARS1989\",\"FARS1990\"\n",
    "            ,\"FARS1991\",\"FARS1992\",\"FARS1993\",\"FARS1994\",\"FARS1995\",\"FARS1996\",\"FARS1997\",\"FARS1998\"\n",
    "            ,\"FARS1999\",\"FARS2000\",\"FARS2001\",\"FARS2002\",\"FARS2003\",\"FARS2004\",\"FARS2005\",\"FARS2006\"\n",
    "            ,\"FARS2007\",\"FARS2008\",\"FARS2009\",\"FARS2010\",\"FARS2011\",\"FARS2012\",\"FARS2013\",\"FARS2014\"\n",
    "            ,\"FARS2015\"\n",
    "           ]\n",
    "    dfList = []\n",
    "    print (\"Reading accident data for each year from 1975 to 2015.\")\n",
    "    for i in FileList:\n",
    "        tmpfilepath = \"../Data/\" + i + \"/accident.csv\"\n",
    "        # print (\"Reading \", tmpfilepath)\n",
    "        tmpdf = pd.read_csv(tmpfilepath)\n",
    "        # tmpSkimmedDf = tmpdf[['STATE', 'COUNTY',\"FATALS\"]].copy()\n",
    "        dfList.append( pd.read_csv(tmpfilepath) )\n",
    "        # dfList.append(tmpSkimmedDf)\n",
    "    return dfList\n",
    "\n",
    "# get the county codes, explanation: https://en.wikipedia.org/wiki/FIPS_county_code\n",
    "def addcountyCode(dfList):\n",
    "    for i in range(len(dfList)):\n",
    "        dfList[i]['STATE'] = dfList[i]['STATE'].apply(lambda x: int(x))\n",
    "        dfList[i]['STATE'] = dfList[i]['STATE'].apply(lambda x: '{0:0>2}'.format(x))\n",
    "        dfList[i]['COUNTY'] = dfList[i]['COUNTY'].apply(lambda x: int(x))\n",
    "        dfList[i][\"COUNTY\"] = dfList[i][\"COUNTY\"].apply(lambda x: '{0:0>3}'.format(x))\n",
    "        dfList[i][\"COUNTYCODE\"] = dfList[i][\"STATE\"].astype(str)+dfList[i][\"COUNTY\"].astype(str)\n",
    "        #print (dfList[i]['COUNTYCODE'])\n",
    "    return dfList\n",
    "\n",
    "# remove all the unnecessary columns, keep only countycode and deaths per year\n",
    "def cleanDataFrame(myDfList_AccidentDataAll):\n",
    "    dfList = []\n",
    "    for df in myDfList_AccidentDataAll:\n",
    "        tmp = df[[\"COUNTYCODE\",\"FATALS\"]].copy()\n",
    "        tmpGrouped = tmp.groupby(['COUNTYCODE'], as_index=False).sum()\n",
    "        dfList.append(tmpGrouped)\n",
    "    return dfList\n",
    "    \n",
    "\n",
    "myDfList_AccidentDataAll = readAccidentData()\n",
    "myDfList_AccidentDataAll = addcountyCode(myDfList_AccidentDataAll)\n",
    "myDfList_AccidentData = cleanDataFrame(myDfList_AccidentDataAll)\n",
    "del myDfList_AccidentDataAll"
   ]
  },
  {
   "cell_type": "code",
   "execution_count": 3,
   "metadata": {},
   "outputs": [
    {
     "name": "stdout",
     "output_type": "stream",
     "text": [
      "Reading  ../Data/us.1969_2015.19ages.txt : yearly county level population data from 1969 to 2015\n"
     ]
    }
   ],
   "source": [
    "# read population data from 1969 to 2015 at county level\n",
    "# data source: https://seer.cancer.gov/popdata/download.html#19\n",
    "def readPopData():\n",
    "    filename = \"../Data/us.1969_2015.19ages.txt\"\n",
    "    print (\"Reading \",filename, \": yearly county level population data from 1969 to 2015\")\n",
    "    f = open(filename,\"r\")\n",
    "    L = f.read()\n",
    "    L = L.split()\n",
    "    \n",
    "    # extract only year, county, and population information\n",
    "    year = []\n",
    "    county = []\n",
    "    population = []\n",
    "    for x in L:\n",
    "        year.append(int(x[:4]))\n",
    "        county.append( str(x[6:11]) )\n",
    "        population.append(int(x[18:]))\n",
    "    myDf = pd.DataFrame({\"YEAR\" : year, \"COUNTYCODE\":county,\"POPULATION\":population})\n",
    "    return myDf\n",
    "\n",
    "def cleanPopData(df_raw):\n",
    "    tmp = df_raw.groupby(['COUNTYCODE','YEAR'], as_index=False).sum()\n",
    "    return tmp\n",
    "\n",
    "def createPopList(myDf_PopulationData):\n",
    "    yearList = list(range(1975,2016))\n",
    "    dfList = []\n",
    "    for y in yearList:\n",
    "        tmp = myDf_PopulationData[myDf_PopulationData[\"YEAR\"] == y]\n",
    "        dfList.append( tmp )\n",
    "    return dfList  \n",
    "    \n",
    "    \n",
    "myDf_RawPopulationData = readPopData()\n",
    "myDf_PopulationData = cleanPopData(myDf_RawPopulationData)\n",
    "myDfList_PopData = createPopList(myDf_PopulationData)"
   ]
  },
  {
   "cell_type": "code",
   "execution_count": 4,
   "metadata": {
    "collapsed": true
   },
   "outputs": [],
   "source": [
    "def readFPISCodes():\n",
    "    df = pd.read_excel(\"../Data/US_FIPS_Codes.xls\", dtype=object)\n",
    "    df[\"COUNTYCODE\"] = df[\"FIPS State\"]+df[\"FIPS County\"]\n",
    "    df[\"COUNTY\"] = df[\"State\"]+\",\"+df[\"County Name\"]\n",
    "    tmp = df[['COUNTYCODE', 'COUNTY']].copy()\n",
    "    return tmp\n",
    "\n",
    "dfFPIS = readFPISCodes()\n",
    "myDict_FPIS = dfFPIS.set_index('COUNTYCODE').to_dict()\n",
    "myCountyCodeList = list(dfFPIS[\"COUNTYCODE\"])"
   ]
  },
  {
   "cell_type": "code",
   "execution_count": 8,
   "metadata": {},
   "outputs": [
    {
     "data": {
      "image/png": "[encoded data removed]",
      "text/plain": [
       "<matplotlib.figure.Figure at 0x1bc1359b0>"
      ]
     },
     "metadata": {},
     "output_type": "display_data"
    }
   ],
   "source": [
    "# plot the total deaths per year and plot\n",
    "def getFatalList(myDfList_AccidentData):\n",
    "    FatalList = []\n",
    "    YearList = []\n",
    "    for i in range(len(myDfList_AccidentData)):\n",
    "        FatalList.append( myDfList_AccidentData[i][\"FATALS\"].sum()  )\n",
    "        YearList.append( i+1975 )\n",
    "    return YearList,FatalList\n",
    "\n",
    "yearList, fatalList = getFatalList(myDfList_AccidentData)\n",
    "fig, ax = plt.subplots( nrows=1, ncols=1 )  # create figure & 1 axis\n",
    "# ax.plot(yearList, fatalList)\n",
    "ax.bar(yearList,fatalList, alpha=0.8,color='#ff572d')\n",
    "plt.xlabel('Year')\n",
    "plt.ylabel('Total Deaths')\n",
    "plt.title(\"Deaths from vehicle crashes in U.S\")\n",
    "fig.savefig('../Fig/TotalDeathvsYear.pdf')\n",
    "plt.show()\n",
    "plt.close(fig) # close the figure"
   ]
  },
  {
   "cell_type": "code",
   "execution_count": 11,
   "metadata": {
    "collapsed": true
   },
   "outputs": [],
   "source": [
    "def mergeAccidentandCrashData(myDfList_AccidentData,myDfList_PopData):\n",
    "    dfList = []\n",
    "    for i in range(len(myDfList_AccidentData)):\n",
    "        tmp = pd.merge(myDfList_AccidentData[i], myDfList_PopData[i], on='COUNTYCODE', how='inner')\n",
    "        dfList.append(tmp)\n",
    "    \n",
    "    return dfList\n",
    "\n",
    "myDfList_MergedData = mergeAccidentandCrashData(myDfList_AccidentData,myDfList_PopData)\n",
    "# myDfList_MergedData[0]\n",
    "# myDfList_PopData[40]\n",
    "# myDfList_AccidentData[40]"
   ]
  },
  {
   "cell_type": "code",
   "execution_count": 12,
   "metadata": {
    "collapsed": true
   },
   "outputs": [],
   "source": [
    "def shrinkFitRange(yearList,deathList):\n",
    "   \n",
    "    i = 0\n",
    "    y = deathList\n",
    "    x = yearList\n",
    "    while (deathList[i]==0) and i < (len(deathList)-1):\n",
    "        y = deathList[i+1:]\n",
    "        x = yearList[i+1:]\n",
    "        i = i+1\n",
    "\n",
    "    i = len(y)-1\n",
    "    new_x = x\n",
    "    new_y = y\n",
    "    while (y[i]==0) and (i > 0):\n",
    "        new_y = y[:i-1]\n",
    "        new_x = x[:i-1]\n",
    "        i = i-1\n",
    "    \n",
    "    return new_x,new_y"
   ]
  },
  {
   "cell_type": "code",
   "execution_count": 13,
   "metadata": {},
   "outputs": [
    {
     "name": "stderr",
     "output_type": "stream",
     "text": [
      "/Users/sdurgut/anaconda/lib/python3.6/site-packages/ipykernel_launcher.py:14: RankWarning: Polyfit may be poorly conditioned\n",
      "  \n"
     ]
    },
    {
     "ename": "TypeError",
     "evalue": "expected non-empty vector for x",
     "output_type": "error",
     "traceback": [
      "\u001b[0;31m---------------------------------------------------------------------------\u001b[0m",
      "\u001b[0;31mTypeError\u001b[0m                                 Traceback (most recent call last)",
      "\u001b[0;32m<ipython-input-13-37f09255166b>\u001b[0m in \u001b[0;36m<module>\u001b[0;34m()\u001b[0m\n\u001b[1;32m     56\u001b[0m \u001b[0mcrashRatePrediction_2016\u001b[0m \u001b[0;34m=\u001b[0m \u001b[0;34m{\u001b[0m\u001b[0;34m}\u001b[0m\u001b[0;34m\u001b[0m\u001b[0m\n\u001b[1;32m     57\u001b[0m \u001b[0;32mfor\u001b[0m \u001b[0mcountyCode\u001b[0m \u001b[0;32min\u001b[0m \u001b[0mmyCountyCodeList\u001b[0m\u001b[0;34m:\u001b[0m\u001b[0;34m\u001b[0m\u001b[0m\n\u001b[0;32m---> 58\u001b[0;31m     \u001b[0mnum\u001b[0m\u001b[0;34m,\u001b[0m \u001b[0mcounty_highestPopIncrease\u001b[0m\u001b[0;34m,\u001b[0m \u001b[0mcounty_highestPopDecrease\u001b[0m\u001b[0;34m,\u001b[0m \u001b[0mp0Inc\u001b[0m\u001b[0;34m,\u001b[0m \u001b[0mp0Dec\u001b[0m \u001b[0;34m=\u001b[0m \u001b[0mplotDeathRatePerCounty\u001b[0m\u001b[0;34m(\u001b[0m\u001b[0mmyDfList_AccidentData\u001b[0m\u001b[0;34m,\u001b[0m\u001b[0mmyDict_FPIS\u001b[0m\u001b[0;34m,\u001b[0m\u001b[0mcountyCode\u001b[0m\u001b[0;34m,\u001b[0m\u001b[0mcounty_highestPopIncrease\u001b[0m\u001b[0;34m,\u001b[0m\u001b[0mcounty_highestPopDecrease\u001b[0m\u001b[0;34m,\u001b[0m\u001b[0mp0Inc\u001b[0m\u001b[0;34m,\u001b[0m\u001b[0mp0Dec\u001b[0m\u001b[0;34m)\u001b[0m\u001b[0;34m\u001b[0m\u001b[0m\n\u001b[0m\u001b[1;32m     59\u001b[0m     \u001b[0mcrashRatePrediction_2016\u001b[0m\u001b[0;34m[\u001b[0m\u001b[0mcountyCode\u001b[0m\u001b[0;34m]\u001b[0m \u001b[0;34m=\u001b[0m \u001b[0mnum\u001b[0m\u001b[0;34m\u001b[0m\u001b[0m\n\u001b[1;32m     60\u001b[0m \u001b[0;34m\u001b[0m\u001b[0m\n",
      "\u001b[0;32m<ipython-input-13-37f09255166b>\u001b[0m in \u001b[0;36mplotDeathRatePerCounty\u001b[0;34m(myDfList_AccidentData, myDict_FPIS, countyCode, county_highestPopIncrease, county_highestPopDecrease, p0Inc, p0Dec)\u001b[0m\n\u001b[1;32m     12\u001b[0m     \u001b[0mshrinkedYearList\u001b[0m\u001b[0;34m,\u001b[0m\u001b[0mshrinkedDeathList\u001b[0m \u001b[0;34m=\u001b[0m \u001b[0mshrinkFitRange\u001b[0m\u001b[0;34m(\u001b[0m\u001b[0myearList\u001b[0m\u001b[0;34m,\u001b[0m\u001b[0mdeathList\u001b[0m\u001b[0;34m)\u001b[0m\u001b[0;34m\u001b[0m\u001b[0m\n\u001b[1;32m     13\u001b[0m     \u001b[0;31m# slope, intercept, r_value, p_value, std_err = stats.linregress(yearList,deathList)\u001b[0m\u001b[0;34m\u001b[0m\u001b[0;34m\u001b[0m\u001b[0m\n\u001b[0;32m---> 14\u001b[0;31m     \u001b[0mp\u001b[0m \u001b[0;34m=\u001b[0m \u001b[0mnp\u001b[0m\u001b[0;34m.\u001b[0m\u001b[0mpolyfit\u001b[0m\u001b[0;34m(\u001b[0m\u001b[0mshrinkedYearList\u001b[0m\u001b[0;34m,\u001b[0m\u001b[0mshrinkedDeathList\u001b[0m\u001b[0;34m,\u001b[0m\u001b[0;36m1\u001b[0m\u001b[0;34m)\u001b[0m\u001b[0;34m\u001b[0m\u001b[0m\n\u001b[0m\u001b[1;32m     15\u001b[0m     \u001b[0mf\u001b[0m \u001b[0;34m=\u001b[0m \u001b[0mnp\u001b[0m\u001b[0;34m.\u001b[0m\u001b[0mpoly1d\u001b[0m\u001b[0;34m(\u001b[0m\u001b[0mp\u001b[0m\u001b[0;34m)\u001b[0m\u001b[0;34m\u001b[0m\u001b[0m\n\u001b[1;32m     16\u001b[0m \u001b[0;34m\u001b[0m\u001b[0m\n",
      "\u001b[0;32m/Users/sdurgut/anaconda/lib/python3.6/site-packages/numpy/lib/polynomial.py\u001b[0m in \u001b[0;36mpolyfit\u001b[0;34m(x, y, deg, rcond, full, w, cov)\u001b[0m\n\u001b[1;32m    553\u001b[0m         \u001b[0;32mraise\u001b[0m \u001b[0mTypeError\u001b[0m\u001b[0;34m(\u001b[0m\u001b[0;34m\"expected 1D vector for x\"\u001b[0m\u001b[0;34m)\u001b[0m\u001b[0;34m\u001b[0m\u001b[0m\n\u001b[1;32m    554\u001b[0m     \u001b[0;32mif\u001b[0m \u001b[0mx\u001b[0m\u001b[0;34m.\u001b[0m\u001b[0msize\u001b[0m \u001b[0;34m==\u001b[0m \u001b[0;36m0\u001b[0m\u001b[0;34m:\u001b[0m\u001b[0;34m\u001b[0m\u001b[0m\n\u001b[0;32m--> 555\u001b[0;31m         \u001b[0;32mraise\u001b[0m \u001b[0mTypeError\u001b[0m\u001b[0;34m(\u001b[0m\u001b[0;34m\"expected non-empty vector for x\"\u001b[0m\u001b[0;34m)\u001b[0m\u001b[0;34m\u001b[0m\u001b[0m\n\u001b[0m\u001b[1;32m    556\u001b[0m     \u001b[0;32mif\u001b[0m \u001b[0my\u001b[0m\u001b[0;34m.\u001b[0m\u001b[0mndim\u001b[0m \u001b[0;34m<\u001b[0m \u001b[0;36m1\u001b[0m \u001b[0;32mor\u001b[0m \u001b[0my\u001b[0m\u001b[0;34m.\u001b[0m\u001b[0mndim\u001b[0m \u001b[0;34m>\u001b[0m \u001b[0;36m2\u001b[0m\u001b[0;34m:\u001b[0m\u001b[0;34m\u001b[0m\u001b[0m\n\u001b[1;32m    557\u001b[0m         \u001b[0;32mraise\u001b[0m \u001b[0mTypeError\u001b[0m\u001b[0;34m(\u001b[0m\u001b[0;34m\"expected 1D or 2D array for y\"\u001b[0m\u001b[0;34m)\u001b[0m\u001b[0;34m\u001b[0m\u001b[0m\n",
      "\u001b[0;31mTypeError\u001b[0m: expected non-empty vector for x"
     ]
    }
   ],
   "source": [
    "\n",
    "        \n",
    "def plotDeathRatePerCounty(myDfList_AccidentData,myDict_FPIS,countyCode,county_highestPopIncrease,county_highestPopDecrease,p0Inc,p0Dec):\n",
    "    deathList = []\n",
    "    yearList = np.arange(1975,2016)\n",
    "    for i in range(len(myDfList_AccidentData)):\n",
    "        tmp = myDfList_AccidentData[i]\n",
    "        tmp = tmp[ tmp[\"COUNTYCODE\"] == countyCode ]\n",
    "        deathList.append( tmp[\"FATALS\"].sum())\n",
    "\n",
    "        \n",
    "    shrinkedYearList,shrinkedDeathList = shrinkFitRange(yearList,deathList)\n",
    "    # slope, intercept, r_value, p_value, std_err = stats.linregress(yearList,deathList)\n",
    "    p = np.polyfit(shrinkedYearList,shrinkedDeathList,1)\n",
    "    f = np.poly1d(p)\n",
    "    \n",
    "    \n",
    "    # print (shrinkedYearList)\n",
    "    # calculate new x's and y's\n",
    "    x_new = np.linspace(shrinkedYearList[0], shrinkedYearList[-1], 100)\n",
    "    y_new = f(x_new)\n",
    "    \n",
    "#     textstr = 'y=%.2f*x + %.2f'%(p[0], p[1])\n",
    "#     fig, ax = plt.subplots( nrows=1, ncols=1 )  # create figure & 1 axis\n",
    "#     ax.plot(yearList,deathList,\"ro\", x_new, y_new)\n",
    "#     # these are matplotlib.patch.Patch properties\n",
    "#     props = dict(boxstyle='round', facecolor='green', alpha=0.5)\n",
    "#     # place a text box in upper left in axes coords\n",
    "#     ax.text(0.55, 0.95, textstr, transform=ax.transAxes, fontsize=14,verticalalignment='top', bbox=props)\n",
    "#     plt.xlabel('Year')\n",
    "#     plt.ylabel('Total Deaths')\n",
    "#     plt.title(myDict_FPIS[\"COUNTY\"][countyCode])\n",
    "#     # plt.show()\n",
    "#     figName = '../Fig/LinearFitTotalDeaths_'+countyCode+'.pdf'\n",
    "#     fig.savefig(figName)\n",
    "#     plt.close(fig) # close the figure\n",
    "    \n",
    "    if p[0]>p0Inc: \n",
    "        p0Inc = p[0]\n",
    "        county_highestPopIncrease = countyCode\n",
    "    if p[0]<p0Dec: \n",
    "        p0Dec = p[0]\n",
    "        county_highestPopDecrease = countyCode\n",
    "        \n",
    "    return f(2016),county_highestPopIncrease, county_highestPopDecrease,p0Inc,p0Dec\n",
    "\n",
    "county_highestPopIncrease = 0\n",
    "county_highestPopDecrease = 0\n",
    "p0Inc = 0\n",
    "p0Dec = 0\n",
    "\n",
    "# num, county_highestPopIncrease, county_highestPopDecrease, p0Inc, p0Dec = plotDeathRatePerCounty(myDfList_AccidentData,myDict_FPIS,\"05015\",county_highestPopIncrease,county_highestPopDecrease,p0Inc,p0Dec)\n",
    "\n",
    "\n",
    "\n",
    "crashRatePrediction_2016 = {}\n",
    "for countyCode in myCountyCodeList:\n",
    "    num, county_highestPopIncrease, county_highestPopDecrease, p0Inc, p0Dec = plotDeathRatePerCounty(myDfList_AccidentData,myDict_FPIS,countyCode,county_highestPopIncrease,county_highestPopDecrease,p0Inc,p0Dec)\n",
    "    crashRatePrediction_2016[countyCode] = num\n",
    "    \n",
    "print(\"Pop increase: \",county_highestPopIncrease, \" Pop decrease: \",county_highestPopDecrease)\n",
    "# output : Pop increase:  32003  Pop decrease:  06037"
   ]
  },
  {
   "cell_type": "code",
   "execution_count": 17,
   "metadata": {
    "collapsed": true
   },
   "outputs": [],
   "source": [
    "def adjustMissingInformation(populationList):\n",
    "    for i in range(len(populationList)):\n",
    "        if i==0 and populationList[i]==0:\n",
    "            populationList[i] = populationList[i+1]\n",
    "        if i==(len(populationList)-1) and populationList[len(populationList)-1]==0:\n",
    "            populationList[len(populationList)-1] = populationList[len(populationList)-2]\n",
    "        if i<(len(populationList)-1) and i > 0 and populationList[i] == 0:\n",
    "            populationList[i] = (populationList[i-1]+populationList[i+1])/2\n",
    "    return populationList\n",
    "    "
   ]
  },
  {
   "cell_type": "code",
   "execution_count": 60,
   "metadata": {},
   "outputs": [
    {
     "name": "stderr",
     "output_type": "stream",
     "text": [
      "/Users/sdurgut/anaconda/lib/python3.6/site-packages/ipykernel_launcher.py:27: RankWarning: Polyfit may be poorly conditioned\n",
      "/Users/sdurgut/anaconda/lib/python3.6/site-packages/ipykernel_launcher.py:27: RankWarning: Polyfit may be poorly conditioned\n",
      "/Users/sdurgut/anaconda/lib/python3.6/site-packages/ipykernel_launcher.py:27: RankWarning: Polyfit may be poorly conditioned\n",
      "/Users/sdurgut/anaconda/lib/python3.6/site-packages/ipykernel_launcher.py:27: RankWarning: Polyfit may be poorly conditioned\n",
      "/Users/sdurgut/anaconda/lib/python3.6/site-packages/ipykernel_launcher.py:27: RankWarning: Polyfit may be poorly conditioned\n",
      "/Users/sdurgut/anaconda/lib/python3.6/site-packages/ipykernel_launcher.py:27: RankWarning: Polyfit may be poorly conditioned\n",
      "/Users/sdurgut/anaconda/lib/python3.6/site-packages/ipykernel_launcher.py:27: RankWarning: Polyfit may be poorly conditioned\n",
      "/Users/sdurgut/anaconda/lib/python3.6/site-packages/ipykernel_launcher.py:27: RankWarning: Polyfit may be poorly conditioned\n",
      "/Users/sdurgut/anaconda/lib/python3.6/site-packages/ipykernel_launcher.py:27: RankWarning: Polyfit may be poorly conditioned\n",
      "/Users/sdurgut/anaconda/lib/python3.6/site-packages/ipykernel_launcher.py:27: RankWarning: Polyfit may be poorly conditioned\n",
      "/Users/sdurgut/anaconda/lib/python3.6/site-packages/ipykernel_launcher.py:27: RankWarning: Polyfit may be poorly conditioned\n",
      "/Users/sdurgut/anaconda/lib/python3.6/site-packages/ipykernel_launcher.py:27: RankWarning: Polyfit may be poorly conditioned\n",
      "/Users/sdurgut/anaconda/lib/python3.6/site-packages/ipykernel_launcher.py:27: RankWarning: Polyfit may be poorly conditioned\n",
      "/Users/sdurgut/anaconda/lib/python3.6/site-packages/ipykernel_launcher.py:27: RankWarning: Polyfit may be poorly conditioned\n",
      "/Users/sdurgut/anaconda/lib/python3.6/site-packages/ipykernel_launcher.py:49: RuntimeWarning: invalid value encountered in double_scalars\n",
      "/Users/sdurgut/anaconda/lib/python3.6/site-packages/ipykernel_launcher.py:27: RankWarning: Polyfit may be poorly conditioned\n",
      "/Users/sdurgut/anaconda/lib/python3.6/site-packages/ipykernel_launcher.py:27: RankWarning: Polyfit may be poorly conditioned\n",
      "/Users/sdurgut/anaconda/lib/python3.6/site-packages/ipykernel_launcher.py:27: RankWarning: Polyfit may be poorly conditioned\n",
      "/Users/sdurgut/anaconda/lib/python3.6/site-packages/ipykernel_launcher.py:27: RankWarning: Polyfit may be poorly conditioned\n",
      "/Users/sdurgut/anaconda/lib/python3.6/site-packages/ipykernel_launcher.py:27: RankWarning: Polyfit may be poorly conditioned\n",
      "/Users/sdurgut/anaconda/lib/python3.6/site-packages/ipykernel_launcher.py:27: RankWarning: Polyfit may be poorly conditioned\n",
      "/Users/sdurgut/anaconda/lib/python3.6/site-packages/ipykernel_launcher.py:27: RankWarning: Polyfit may be poorly conditioned\n",
      "/Users/sdurgut/anaconda/lib/python3.6/site-packages/ipykernel_launcher.py:27: RankWarning: Polyfit may be poorly conditioned\n"
     ]
    },
    {
     "name": "stdout",
     "output_type": "stream",
     "text": [
      "Max pop increase rate:  08035 Min pop increase:  0\n"
     ]
    }
   ],
   "source": [
    "def plotPopIncreasePerCounty(myDfList_PopData,myDict_FPIS,countyCode,county_highestIncrease_pop, county_highestDecrease_pop,changeMax,changeMin):\n",
    "    yearList = np.arange(1975,2016)\n",
    "    populationList = np.empty([len(yearList)])\n",
    "    \n",
    "    for i in range(len(myDfList_PopData)):\n",
    "        tmp = myDfList_PopData[i]\n",
    "        tmp = tmp[ tmp[\"COUNTYCODE\"] == countyCode ]\n",
    "        populationList[i] = tmp[\"POPULATION\"].sum()\n",
    "    \n",
    "    # just average the missing information\n",
    "#     populationList = adjustMissingInformation(populationList)\n",
    "    shrinkedYearList,shrinkedPopList = shrinkFitRange(yearList,populationList)\n",
    "    # slope, intercept, r_value, p_value, std_err = stats.linregress(yearList,deathList)\n",
    "    p = np.polyfit(shrinkedYearList,shrinkedPopList,5)\n",
    "    f = np.poly1d(p)\n",
    "\n",
    "    # calculate new x's and y's\n",
    "    x_new = np.linspace(shrinkedYearList[0], shrinkedYearList[-1], 100)\n",
    "    y_new = f(x_new)\n",
    "    \n",
    "\n",
    "    fig, ax = plt.subplots( nrows=1, ncols=1 )  # create figure & 1 axis\n",
    "    ax.plot(yearList,populationList,\"ro\", x_new, y_new)\n",
    "    # these are matplotlib.patch.Patch properties\n",
    "    props = dict(boxstyle='round', facecolor='wheat', alpha=0.5)\n",
    "    # place a text box in upper left in axes coords\n",
    "    #ax.text(0.40, 0.15, textstr, transform=ax.transAxes, fontsize=14,verticalalignment='top', bbox=props)\n",
    "    plt.xlabel('Year')\n",
    "    plt.ylabel('Total Population')\n",
    "    plt.title(myDict_FPIS[\"COUNTY\"][countyCode])\n",
    "    #plt.show()\n",
    "    figName = '../Fig/LinearPopulationIncreaseFit_'+countyCode+'.pdf'\n",
    "    fig.savefig(figName)\n",
    "    plt.close(fig) # close the figure\n",
    "    \n",
    "    rate = shrinkedPopList[-1]/shrinkedPopList[0]\n",
    "    #print(rate)\n",
    "    if rate>changeMax: \n",
    "        changeMax = rate\n",
    "        county_highestIncrease_pop = countyCode\n",
    "    if rate<changeMin: \n",
    "        changeMin = rate\n",
    "        county_highestDecrease_pop = countyCode\n",
    "    \n",
    "    return f(2016),county_highestIncrease_pop, county_highestDecrease_pop, changeMax, changeMin\n",
    "\n",
    "\n",
    "county_highestIncrease_pop = 0\n",
    "county_highestDecrease_pop = 0\n",
    "changeMax = 0\n",
    "changeMin = 0\n",
    "\n",
    "\n",
    "# num, county_highestIncrease_pop, county_highestDecrease_pop, changeMax, changeMin = plotPopIncreasePerCounty(myDfList_PopData,myDict_FPIS,\"02280\",county_highestIncrease_pop, county_highestDecrease_pop,changeMax,changeMin)\n",
    "# num\n",
    "\n",
    "populationPrediction_2016 = {}\n",
    "for countyCode in myCountyCodeList:\n",
    "    num, county_highestIncrease_pop, county_highestDecrease_pop, changeMax, changeMin = plotPopIncreasePerCounty(myDfList_PopData,myDict_FPIS,countyCode,county_highestIncrease_pop, county_highestDecrease_pop,changeMax,changeMin)\n",
    "    populationPrediction_2016[countyCode] = num\n",
    "\n",
    "print(\"Max pop increase rate: \", county_highestIncrease_pop, \"Min pop increase: \",county_highestDecrease_pop)\n",
    "#output: Max pop increase rate:  08035 Min pop increase:  0"
   ]
  },
  {
   "cell_type": "code",
   "execution_count": 69,
   "metadata": {
    "collapsed": true
   },
   "outputs": [],
   "source": [
    "df_Crash2016 = pd.DataFrame()\n",
    "df_Crash2016[\"CountyCode\"] = crashRatePrediction_2016.keys()\n",
    "df_Crash2016[\"Fatals\"] = crashRatePrediction_2016.values()\n",
    "\n",
    "df_Population2016 = pd.DataFrame()\n",
    "df_Population2016[\"CountyCode\"] = populationPrediction_2016.keys()\n",
    "df_Population2016[\"Population\"] = populationPrediction_2016.values()\n",
    "#df_Population2016\n",
    "#df_Crash2016"
   ]
  },
  {
   "cell_type": "code",
   "execution_count": 67,
   "metadata": {
    "collapsed": true
   },
   "outputs": [],
   "source": [
    "df_FinalData =  pd.merge(df_Crash2016, df_Population2016, on='CountyCode', how='outer')\n",
    "df_FinalData[\"FatalityRate\"] = 10000*df_FinalData[\"Fatals\"]/df_FinalData[\"Population\"]\n",
    "df_FinalData.to_csv(\"../CreateSVG/FatalityData.csv\",header=False, index = False)"
   ]
  },
  {
   "cell_type": "code",
   "execution_count": 58,
   "metadata": {
    "collapsed": true
   },
   "outputs": [],
   "source": [
    "def smoothDeathRate(deathList):\n",
    "    for i in range(len(deathList)):\n",
    "        if i==0:\n",
    "            deathList[i] = (deathList[i] + deathList[i+1]) /2.0\n",
    "        if i==(len(deathList)-1):\n",
    "            deathList[len(deathList)-1] = (deathList[len(deathList)-1]+ deathList[len(deathList)-2])/2.0\n",
    "        if i<(len(deathList)-1) and i > 0:\n",
    "            deathList[i] = (deathList[i-1]+deathList[i]+deathList[i+1])/3.0\n",
    "    return deathList"
   ]
  },
  {
   "cell_type": "code",
   "execution_count": 59,
   "metadata": {
    "collapsed": true
   },
   "outputs": [],
   "source": [
    "############################benchmarking###################################\n",
    "############################benchmarking###################################\n",
    "############################benchmarking###################################\n",
    "############################benchmarking###################################\n",
    "############################benchmarking###################################\n",
    "############################benchmarking###################################\n",
    "############################benchmarking###################################\n",
    "\n",
    "\n",
    "def plotDeathRatePerCountyBenchMark(myDfList_AccidentData,myDict_FPIS,countyCode):\n",
    "    deathList = []\n",
    "    yearList = np.arange(1975,2015)\n",
    "    \n",
    "    for i in range(len(myDfList_AccidentData)-1):\n",
    "        tmp = myDfList_AccidentData[i]\n",
    "        tmp = tmp[ tmp[\"COUNTYCODE\"] == countyCode ]\n",
    "        deathList.append( tmp[\"FATALS\"].sum())\n",
    " \n",
    "    # deathList = smoothDeathRate(deathList)\n",
    "    shrinkedYearList,shrinkedDeathList = shrinkFitRange(yearList,deathList)\n",
    "    if(len(shrinkedYearList)<2): return 0\n",
    "    p = np.polyfit(shrinkedYearList,shrinkedDeathList,1)\n",
    "    f = np.poly1d(p)\n",
    "    return f(2015)\n",
    "\n",
    "crashRatePrediction_2015 = {}\n",
    "for countyCode in myCountyCodeList:\n",
    "    num = plotDeathRatePerCountyBenchMark(myDfList_AccidentData,myDict_FPIS,countyCode)\n",
    "    if num<0:\n",
    "        crashRatePrediction_2015[countyCode] = 0\n",
    "    else:\n",
    "        crashRatePrediction_2015[countyCode] = num\n",
    "\n"
   ]
  },
  {
   "cell_type": "code",
   "execution_count": 21,
   "metadata": {},
   "outputs": [
    {
     "name": "stderr",
     "output_type": "stream",
     "text": [
      "/Users/sdurgut/anaconda/lib/python3.6/site-packages/ipykernel_launcher.py:11: RankWarning: Polyfit may be poorly conditioned\n",
      "  # This is added back by InteractiveShellApp.init_path()\n",
      "/Users/sdurgut/anaconda/lib/python3.6/site-packages/ipykernel_launcher.py:11: RankWarning: Polyfit may be poorly conditioned\n",
      "  # This is added back by InteractiveShellApp.init_path()\n",
      "/Users/sdurgut/anaconda/lib/python3.6/site-packages/ipykernel_launcher.py:11: RankWarning: Polyfit may be poorly conditioned\n",
      "  # This is added back by InteractiveShellApp.init_path()\n",
      "/Users/sdurgut/anaconda/lib/python3.6/site-packages/ipykernel_launcher.py:11: RankWarning: Polyfit may be poorly conditioned\n",
      "  # This is added back by InteractiveShellApp.init_path()\n",
      "/Users/sdurgut/anaconda/lib/python3.6/site-packages/ipykernel_launcher.py:11: RankWarning: Polyfit may be poorly conditioned\n",
      "  # This is added back by InteractiveShellApp.init_path()\n",
      "/Users/sdurgut/anaconda/lib/python3.6/site-packages/ipykernel_launcher.py:11: RankWarning: Polyfit may be poorly conditioned\n",
      "  # This is added back by InteractiveShellApp.init_path()\n",
      "/Users/sdurgut/anaconda/lib/python3.6/site-packages/ipykernel_launcher.py:11: RankWarning: Polyfit may be poorly conditioned\n",
      "  # This is added back by InteractiveShellApp.init_path()\n",
      "/Users/sdurgut/anaconda/lib/python3.6/site-packages/ipykernel_launcher.py:11: RankWarning: Polyfit may be poorly conditioned\n",
      "  # This is added back by InteractiveShellApp.init_path()\n",
      "/Users/sdurgut/anaconda/lib/python3.6/site-packages/ipykernel_launcher.py:11: RankWarning: Polyfit may be poorly conditioned\n",
      "  # This is added back by InteractiveShellApp.init_path()\n",
      "/Users/sdurgut/anaconda/lib/python3.6/site-packages/ipykernel_launcher.py:11: RankWarning: Polyfit may be poorly conditioned\n",
      "  # This is added back by InteractiveShellApp.init_path()\n",
      "/Users/sdurgut/anaconda/lib/python3.6/site-packages/ipykernel_launcher.py:11: RankWarning: Polyfit may be poorly conditioned\n",
      "  # This is added back by InteractiveShellApp.init_path()\n",
      "/Users/sdurgut/anaconda/lib/python3.6/site-packages/ipykernel_launcher.py:11: RankWarning: Polyfit may be poorly conditioned\n",
      "  # This is added back by InteractiveShellApp.init_path()\n",
      "/Users/sdurgut/anaconda/lib/python3.6/site-packages/ipykernel_launcher.py:11: RankWarning: Polyfit may be poorly conditioned\n",
      "  # This is added back by InteractiveShellApp.init_path()\n",
      "/Users/sdurgut/anaconda/lib/python3.6/site-packages/ipykernel_launcher.py:11: RankWarning: Polyfit may be poorly conditioned\n",
      "  # This is added back by InteractiveShellApp.init_path()\n",
      "/Users/sdurgut/anaconda/lib/python3.6/site-packages/ipykernel_launcher.py:11: RankWarning: Polyfit may be poorly conditioned\n",
      "  # This is added back by InteractiveShellApp.init_path()\n",
      "/Users/sdurgut/anaconda/lib/python3.6/site-packages/ipykernel_launcher.py:11: RankWarning: Polyfit may be poorly conditioned\n",
      "  # This is added back by InteractiveShellApp.init_path()\n",
      "/Users/sdurgut/anaconda/lib/python3.6/site-packages/ipykernel_launcher.py:11: RankWarning: Polyfit may be poorly conditioned\n",
      "  # This is added back by InteractiveShellApp.init_path()\n",
      "/Users/sdurgut/anaconda/lib/python3.6/site-packages/ipykernel_launcher.py:11: RankWarning: Polyfit may be poorly conditioned\n",
      "  # This is added back by InteractiveShellApp.init_path()\n",
      "/Users/sdurgut/anaconda/lib/python3.6/site-packages/ipykernel_launcher.py:11: RankWarning: Polyfit may be poorly conditioned\n",
      "  # This is added back by InteractiveShellApp.init_path()\n",
      "/Users/sdurgut/anaconda/lib/python3.6/site-packages/ipykernel_launcher.py:11: RankWarning: Polyfit may be poorly conditioned\n",
      "  # This is added back by InteractiveShellApp.init_path()\n",
      "/Users/sdurgut/anaconda/lib/python3.6/site-packages/ipykernel_launcher.py:11: RankWarning: Polyfit may be poorly conditioned\n",
      "  # This is added back by InteractiveShellApp.init_path()\n",
      "/Users/sdurgut/anaconda/lib/python3.6/site-packages/ipykernel_launcher.py:11: RankWarning: Polyfit may be poorly conditioned\n",
      "  # This is added back by InteractiveShellApp.init_path()\n"
     ]
    }
   ],
   "source": [
    "def plotPopIncreasePerCountyBenchMark(myDfList_PopData,myDict_FPIS,countyCode):\n",
    "    yearList = np.arange(1975,2015)\n",
    "    populationList = np.empty([len(yearList)])\n",
    "    \n",
    "    for i in range(len(myDfList_PopData)-1):\n",
    "        tmp = myDfList_PopData[i]\n",
    "        tmp = tmp[ tmp[\"COUNTYCODE\"] == countyCode ]\n",
    "        populationList[i] = tmp[\"POPULATION\"].sum()\n",
    "    \n",
    "    shrinkedYearList,shrinkedPopList = shrinkFitRange(yearList,populationList)\n",
    "    p = np.polyfit(shrinkedYearList,shrinkedPopList,5)\n",
    "    f = np.poly1d(p)  \n",
    "    return f(2015)\n",
    "\n",
    "populationPrediction_2015 = {}\n",
    "for countyCode in myCountyCodeList:\n",
    "    num = plotPopIncreasePerCountyBenchMark(myDfList_PopData,myDict_FPIS,countyCode)\n",
    "    if num<0:\n",
    "        populationPrediction_2015[countyCode] = 0\n",
    "    else:\n",
    "        populationPrediction_2015[countyCode] = num\n"
   ]
  },
  {
   "cell_type": "code",
   "execution_count": 60,
   "metadata": {
    "collapsed": true
   },
   "outputs": [],
   "source": [
    "# populationPrediction_2015\n",
    "# crashRatePrediction_2015\n",
    "\n",
    "df_Crash2015 = pd.DataFrame()\n",
    "df_Crash2015[\"CountyCode\"] = crashRatePrediction_2015.keys()\n",
    "df_Crash2015[\"Fatals\"] = crashRatePrediction_2015.values()\n",
    "\n",
    "df_Population2015 = pd.DataFrame()\n",
    "df_Population2015[\"CountyCode\"] = populationPrediction_2015.keys()\n",
    "df_Population2015[\"Population\"] = populationPrediction_2015.values()\n",
    "\n",
    "df_2015Prediction =  pd.merge(df_Crash2015, df_Population2015, on='CountyCode', how='outer')\n",
    "df_2015Prediction[\"FatalityRatePrediction\"] = 10000*df_2015Prediction[\"Fatals\"]/df_2015Prediction[\"Population\"]\n",
    "df_2015Prediction.to_csv(\"../CreateSVG/FatalityPredictionData_2015.csv\",header=False, index = False)\n",
    "\n",
    "\n",
    "\n",
    "df_2015ActualData = pd.merge(myDfList_AccidentData[40], myDfList_PopData[40], on='COUNTYCODE', how='inner')\n",
    "df_2015ActualData[\"FatalityRateActual\"] = 10000*df_2015ActualData[\"FATALS\"]/df_2015ActualData[\"POPULATION\"]\n",
    "df_2015ActualData = df_2015ActualData.rename(columns={'COUNTYCODE': 'CountyCode', 'FATALS': 'Fatals', 'POPULATION': 'Population',\"YEAR\":\"Year\"})\n",
    "# df_2015ActualData\n",
    "\n"
   ]
  },
  {
   "cell_type": "code",
   "execution_count": 141,
   "metadata": {},
   "outputs": [
    {
     "data": {
      "text/plain": [
       "24.284899058352725"
      ]
     },
     "execution_count": 141,
     "metadata": {},
     "output_type": "execute_result"
    }
   ],
   "source": [
    "df_BenchMark = pd.merge(df_2015Prediction, df_2015ActualData, on='CountyCode', how='inner')\n",
    "df_BenchMark[\"Error\"] = 100*abs(df_BenchMark[\"FatalityRateActual\"]-df_BenchMark[\"FatalityRatePrediction\"])/df_BenchMark[\"FatalityRateActual\"]\n",
    "# df_BenchMark[\"Error\"].mean()\n",
    "tmp = df_BenchMark[df_BenchMark[\"Population_y\"]>100000]\n",
    "tmp[\"Error\"].mean()\n",
    "#df_BenchMark"
   ]
  },
  {
   "cell_type": "code",
   "execution_count": 122,
   "metadata": {
    "collapsed": true
   },
   "outputs": [],
   "source": []
  },
  {
   "cell_type": "code",
   "execution_count": 125,
   "metadata": {
    "collapsed": true
   },
   "outputs": [],
   "source": []
  },
  {
   "cell_type": "code",
   "execution_count": null,
   "metadata": {
    "collapsed": true
   },
   "outputs": [],
   "source": []
  },
  {
   "cell_type": "code",
   "execution_count": null,
   "metadata": {
    "collapsed": true
   },
   "outputs": [],
   "source": []
  }
 ],
 "metadata": {
  "kernel_info": {
   "name": "python3"
  },
  "kernelspec": {
   "display_name": "Python 3",
   "language": "python",
   "name": "python3"
  },
  "language_info": {
   "codemirror_mode": {
    "name": "ipython",
    "version": 3
   },
   "file_extension": ".py",
   "mimetype": "text/x-python",
   "name": "python",
   "nbconvert_exporter": "python",
   "pygments_lexer": "ipython3",
   "version": "3.6.1"
  }
 },
 "nbformat": 4,
 "nbformat_minor": 1
}
