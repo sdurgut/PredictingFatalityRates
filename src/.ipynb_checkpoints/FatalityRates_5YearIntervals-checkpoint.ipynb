{
 "cells": [
  {
   "cell_type": "code",
   "execution_count": 1,
   "metadata": {
    "collapsed": true
   },
   "outputs": [],
   "source": [
    "import pandas as pd\n",
    "import numpy as np\n",
    "# import scipy as sp\n",
    "from scipy import stats\n",
    "import matplotlib.pyplot as plt"
   ]
  },
  {
   "cell_type": "code",
   "execution_count": 2,
   "metadata": {},
   "outputs": [
    {
     "name": "stdout",
     "output_type": "stream",
     "text": [
      "Reading accident data for each year from 1975 to 2015.\n"
     ]
    }
   ],
   "source": [
    "# data source: https://www.nhtsa.gov/research-data/fatality-analysis-reporting-system-fars\n",
    "# read data from Data files and put them into a list of dataframes\n",
    "def readAccidentData():\n",
    "    FileList = [ \"FARS1975\",\"FARS1976\",\"FARS1977\",\"FARS1978\",\"FARS1979\",\"FARS1980\",\"FARS1981\",\"FARS1982\"\n",
    "            ,\"FARS1983\",\"FARS1984\",\"FARS1985\",\"FARS1986\",\"FARS1987\",\"FARS1988\",\"FARS1989\",\"FARS1990\"\n",
    "            ,\"FARS1991\",\"FARS1992\",\"FARS1993\",\"FARS1994\",\"FARS1995\",\"FARS1996\",\"FARS1997\",\"FARS1998\"\n",
    "            ,\"FARS1999\",\"FARS2000\",\"FARS2001\",\"FARS2002\",\"FARS2003\",\"FARS2004\",\"FARS2005\",\"FARS2006\"\n",
    "            ,\"FARS2007\",\"FARS2008\",\"FARS2009\",\"FARS2010\",\"FARS2011\",\"FARS2012\",\"FARS2013\",\"FARS2014\"\n",
    "            ,\"FARS2015\"\n",
    "               ]\n",
    "    dfList = []\n",
    "    print (\"Reading accident data for each year from 1975 to 2015.\")\n",
    "    for i in FileList:\n",
    "        tmpfilepath = \"../Data/\" + i + \"/accident.csv\"\n",
    "        # print (\"Reading \", tmpfilepath)\n",
    "        tmpdf = pd.read_csv(tmpfilepath)\n",
    "        # tmpSkimmedDf = tmpdf[['STATE', 'COUNTY',\"FATALS\"]].copy()\n",
    "        dfList.append( pd.read_csv(tmpfilepath) )\n",
    "        # dfList.append(tmpSkimmedDf)\n",
    "    return dfList\n",
    "\n",
    "# get the county codes, explanation: https://en.wikipedia.org/wiki/FIPS_county_code\n",
    "def addcountyCode(dfList):\n",
    "    for i in range(len(dfList)):\n",
    "        dfList[i]['STATE'] = dfList[i]['STATE'].apply(lambda x: int(x))\n",
    "        dfList[i]['STATE'] = dfList[i]['STATE'].apply(lambda x: '{0:0>2}'.format(x))\n",
    "        dfList[i]['COUNTY'] = dfList[i]['COUNTY'].apply(lambda x: int(x))\n",
    "        dfList[i][\"COUNTY\"] = dfList[i][\"COUNTY\"].apply(lambda x: '{0:0>3}'.format(x))\n",
    "        dfList[i][\"COUNTYCODE\"] = dfList[i][\"STATE\"].astype(str)+dfList[i][\"COUNTY\"].astype(str)\n",
    "        #print (dfList[i]['COUNTYCODE'])\n",
    "    return dfList\n",
    "\n",
    "# remove all the unnecessary columns, keep only countycode and deaths per year\n",
    "def cleanDataFrame(myDfList_AccidentDataAll):\n",
    "    dfList = []\n",
    "    for df in myDfList_AccidentDataAll:\n",
    "        tmp = df[[\"COUNTYCODE\",\"FATALS\"]].copy()\n",
    "        tmpGrouped = tmp.groupby(['COUNTYCODE'], as_index=False).sum()\n",
    "        dfList.append(tmpGrouped)\n",
    "    return dfList\n",
    "    \n",
    "\n",
    "myDfList_AccidentDataAll = readAccidentData()\n",
    "myDfList_AccidentDataAll = addcountyCode(myDfList_AccidentDataAll)\n",
    "myDfList_AccidentData = cleanDataFrame(myDfList_AccidentDataAll)\n",
    "del myDfList_AccidentDataAll"
   ]
  },
  {
   "cell_type": "code",
   "execution_count": 5,
   "metadata": {
    "collapsed": true
   },
   "outputs": [],
   "source": [
    "def combineAccidentDatawith5YearIntervals(myDfList_AccidentData):\n",
    "    myDfList_AccidentData_5YearIntervals = []\n",
    "    for i in range(8):\n",
    "        tmp1 = myDfList_AccidentData[i+1].set_index(\"COUNTYCODE\")\n",
    "        tmp2 = myDfList_AccidentData[i+2].set_index(\"COUNTYCODE\")\n",
    "        tmp = tmp1.add(tmp2, fill_value=0)\n",
    "        tmp3 = myDfList_AccidentData[i+3].set_index(\"COUNTYCODE\")\n",
    "        tmp = tmp.add(tmp3, fill_value=0)\n",
    "        tmp4 = myDfList_AccidentData[i+4].set_index(\"COUNTYCODE\")\n",
    "        tmp = tmp.add(tmp4, fill_value=0)\n",
    "        tmp5 = myDfList_AccidentData[i+5].set_index(\"COUNTYCODE\")\n",
    "        tmp = tmp.add(tmp5, fill_value=0)\n",
    "        tmp.reset_index(inplace=True)\n",
    "        tmp [\"FATALS\"] = tmp [\"FATALS\"]/5\n",
    "        myDfList_AccidentData_5YearIntervals.append(tmp)\n",
    "    return myDfList_AccidentData_5YearIntervals\n",
    "\n",
    "myDfList_AccidentData_5YearIntervals = combineAccidentDatawith5YearIntervals(myDfList_AccidentData)\n",
    "#myDfList_AccidentData_5YearIntervals[0]"
   ]
  },
  {
   "cell_type": "code",
   "execution_count": 6,
   "metadata": {},
   "outputs": [
    {
     "name": "stdout",
     "output_type": "stream",
     "text": [
      "Reading  ../Data/us.1969_2015.19ages.txt : yearly county level population data from 1969 to 2015\n"
     ]
    }
   ],
   "source": [
    "# read population data from 1969 to 2015 at county level\n",
    "# data source: https://seer.cancer.gov/popdata/download.html#19\n",
    "def readPopData():\n",
    "    filename = \"../Data/us.1969_2015.19ages.txt\"\n",
    "    print (\"Reading \",filename, \": yearly county level population data from 1969 to 2015\")\n",
    "    f = open(filename,\"r\")\n",
    "    L = f.read()\n",
    "    L = L.split()\n",
    "    \n",
    "    # extract only year, county, and population information\n",
    "    year = []\n",
    "    county = []\n",
    "    population = []\n",
    "    for x in L:\n",
    "        year.append(int(x[:4]))\n",
    "        county.append( str(x[6:11]) )\n",
    "        population.append(int(x[18:]))\n",
    "    myDf = pd.DataFrame({\"YEAR\" : year, \"COUNTYCODE\":county,\"POPULATION\":population})\n",
    "    return myDf\n",
    "\n",
    "def cleanPopData(df_raw):\n",
    "    tmp = df_raw.groupby(['COUNTYCODE','YEAR'], as_index=False).sum()\n",
    "    return tmp\n",
    "\n",
    "def createPopList(myDf_PopulationData):\n",
    "    yearList = list(range(1975,2016))\n",
    "    dfList = []\n",
    "    for y in yearList:\n",
    "        tmp = myDf_PopulationData[myDf_PopulationData[\"YEAR\"] == y]\n",
    "        dfList.append( tmp )\n",
    "    return dfList  \n",
    "    \n",
    "    \n",
    "myDf_RawPopulationData = readPopData()\n",
    "myDf_PopulationData = cleanPopData(myDf_RawPopulationData)\n",
    "myDfList_PopData = createPopList(myDf_PopulationData)"
   ]
  },
  {
   "cell_type": "code",
   "execution_count": 8,
   "metadata": {
    "collapsed": true
   },
   "outputs": [],
   "source": [
    "def combinePopDatawith5YearIntervals(myDfList_PopData):\n",
    "    myDfList_PopData_5YearIntervals = []\n",
    "    for i in range(8):\n",
    "        tmp1 = myDfList_PopData[i+1].set_index(\"COUNTYCODE\")\n",
    "        tmp1 = tmp1.drop('YEAR', 1)\n",
    "        tmp2 = myDfList_PopData[i+2].set_index(\"COUNTYCODE\")\n",
    "        tmp2 = tmp2.drop('YEAR', 1)\n",
    "        tmp = tmp1.add(tmp2, fill_value=0)\n",
    "        tmp3 = myDfList_PopData[i+3].set_index(\"COUNTYCODE\")\n",
    "        tmp3 = tmp3.drop('YEAR', 1)\n",
    "        tmp = tmp.add(tmp3, fill_value=0)\n",
    "        tmp4 = myDfList_PopData[i+3].set_index(\"COUNTYCODE\")\n",
    "        tmp4 = tmp4.drop('YEAR', 1)\n",
    "        tmp = tmp.add(tmp4, fill_value=0)\n",
    "        tmp5 = myDfList_PopData[i+3].set_index(\"COUNTYCODE\")\n",
    "        tmp5 = tmp5.drop('YEAR', 1)\n",
    "        tmp = tmp.add(tmp5, fill_value=0)\n",
    "        tmp.reset_index(inplace=True)\n",
    "        tmp[\"POPULATION\"] = tmp[\"POPULATION\"]/5\n",
    "        myDfList_PopData_5YearIntervals.append(tmp)\n",
    "    return myDfList_PopData_5YearIntervals\n",
    "\n",
    "myDfList_PopData_5YearIntervals = combinePopDatawith5YearIntervals(myDfList_PopData)\n",
    "#myDfList_PopData_5YearIntervals[0]"
   ]
  },
  {
   "cell_type": "code",
   "execution_count": 9,
   "metadata": {
    "collapsed": true
   },
   "outputs": [],
   "source": [
    "def readFPISCodes():\n",
    "    df = pd.read_excel(\"../Data/US_FIPS_Codes.xls\", dtype=object)\n",
    "    df[\"COUNTYCODE\"] = df[\"FIPS State\"]+df[\"FIPS County\"]\n",
    "    df[\"COUNTY\"] = df[\"State\"]+\",\"+df[\"County Name\"]\n",
    "    tmp = df[['COUNTYCODE', 'COUNTY']].copy()\n",
    "    return tmp\n",
    "\n",
    "dfFPIS = readFPISCodes()\n",
    "myDict_FPIS = dfFPIS.set_index('COUNTYCODE').to_dict()\n",
    "myCountyCodeList = list(dfFPIS[\"COUNTYCODE\"])"
   ]
  },
  {
   "cell_type": "code",
   "execution_count": 12,
   "metadata": {
    "collapsed": true
   },
   "outputs": [],
   "source": [
    "def shrinkFitRange(yearList,deathList):\n",
    "   \n",
    "    i = 0\n",
    "    y = deathList\n",
    "    x = yearList\n",
    "    while (deathList[i]==0) and i < (len(deathList)-1):\n",
    "        y = deathList[i+1:]\n",
    "        x = yearList[i+1:]\n",
    "        i = i+1\n",
    "\n",
    "    i = len(y)-1\n",
    "    new_x = x\n",
    "    new_y = y\n",
    "    while (y[i]==0) and (i > 0):\n",
    "        new_y = y[:i-1]\n",
    "        new_x = x[:i-1]\n",
    "        i = i-1\n",
    "    \n",
    "    return new_x,new_y"
   ]
  },
  {
   "cell_type": "code",
   "execution_count": 78,
   "metadata": {},
   "outputs": [
    {
     "name": "stderr",
     "output_type": "stream",
     "text": [
      "/Users/sdurgut/anaconda/lib/python3.6/site-packages/ipykernel_launcher.py:15: RankWarning: Polyfit may be poorly conditioned\n",
      "  from ipykernel import kernelapp as app\n"
     ]
    }
   ],
   "source": [
    "\n",
    "def plotDeathRatePerCountyBenchMark(myDfList_AccidentData_5YearIntervals,myDict_FPIS,countyCode):\n",
    "    deathList = []\n",
    "    yearList = [1976,1981,1986,1991,1996,2001,2006]\n",
    "    \n",
    "    for i in range(len(myDfList_AccidentData_5YearIntervals)-1):\n",
    "        tmp = myDfList_AccidentData_5YearIntervals[i]\n",
    "        tmp = tmp[ tmp[\"COUNTYCODE\"] == countyCode ]\n",
    "        deathList.append( tmp[\"FATALS\"].sum())\n",
    " \n",
    "\n",
    "    # deathList = smoothDeathRate(deathList)\n",
    "    shrinkedYearList,shrinkedDeathList = shrinkFitRange(yearList,deathList)\n",
    "    if(len(shrinkedYearList)<2): return 0\n",
    "    p = np.polyfit(shrinkedYearList,shrinkedDeathList,2)\n",
    "    f = np.poly1d(p)\n",
    "    \n",
    "    x_new = np.linspace(shrinkedYearList[0], shrinkedYearList[-1], 100)\n",
    "    y_new = f(x_new)\n",
    "    \n",
    "    #textstr = 'y=%.2f*x + %.2f'%(p[0], p[1])\n",
    "    fig, ax = plt.subplots( nrows=1, ncols=1 )  # create figure & 1 axis\n",
    "    ax.plot(yearList,deathList,\"ro\", x_new, y_new)\n",
    "    # these are matplotlib.patch.Patch properties\n",
    "    #props = dict(boxstyle='round', facecolor='green', alpha=0.5)\n",
    "    # place a text box in upper left in axes coords\n",
    "    #ax.text(0.55, 0.95, textstr, transform=ax.transAxes, fontsize=14,verticalalignment='top', bbox=props)\n",
    "    plt.xlabel('5 Year Intervals')\n",
    "    plt.ylabel('Average Total Deaths/ 5 Years')\n",
    "    plt.title(myDict_FPIS[\"COUNTY\"][countyCode])\n",
    "    #plt.show()\n",
    "    figName = '../Fig/LinearFitTotalDeaths_'+countyCode+'_5Years.pdf'\n",
    "    fig.savefig(figName)\n",
    "    plt.close(fig) # close the figure\n",
    "    return f(2011)\n",
    "#num = plotDeathRatePerCountyBenchMark(myDfList_AccidentData_5YearIntervals,myDict_FPIS,\"05005\")\n",
    "\n",
    "crashRatePrediction_2011_2015 = {}\n",
    "for countyCode in myCountyCodeList:\n",
    "    num = plotDeathRatePerCountyBenchMark(myDfList_AccidentData_5YearIntervals,myDict_FPIS,countyCode)\n",
    "    if num<0:\n",
    "        crashRatePrediction_2011_2015[countyCode] = 0\n",
    "    else:\n",
    "        crashRatePrediction_2011_2015[countyCode] = num"
   ]
  },
  {
   "cell_type": "code",
   "execution_count": 25,
   "metadata": {},
   "outputs": [
    {
     "name": "stderr",
     "output_type": "stream",
     "text": [
      "/Users/sdurgut/anaconda/lib/python3.6/site-packages/ipykernel_launcher.py:11: RankWarning: Polyfit may be poorly conditioned\n",
      "  # This is added back by InteractiveShellApp.init_path()\n",
      "/Users/sdurgut/anaconda/lib/python3.6/site-packages/ipykernel_launcher.py:11: RankWarning: Polyfit may be poorly conditioned\n",
      "  # This is added back by InteractiveShellApp.init_path()\n",
      "/Users/sdurgut/anaconda/lib/python3.6/site-packages/ipykernel_launcher.py:11: RankWarning: Polyfit may be poorly conditioned\n",
      "  # This is added back by InteractiveShellApp.init_path()\n",
      "/Users/sdurgut/anaconda/lib/python3.6/site-packages/ipykernel_launcher.py:11: RankWarning: Polyfit may be poorly conditioned\n",
      "  # This is added back by InteractiveShellApp.init_path()\n",
      "/Users/sdurgut/anaconda/lib/python3.6/site-packages/ipykernel_launcher.py:11: RankWarning: Polyfit may be poorly conditioned\n",
      "  # This is added back by InteractiveShellApp.init_path()\n",
      "/Users/sdurgut/anaconda/lib/python3.6/site-packages/ipykernel_launcher.py:11: RankWarning: Polyfit may be poorly conditioned\n",
      "  # This is added back by InteractiveShellApp.init_path()\n",
      "/Users/sdurgut/anaconda/lib/python3.6/site-packages/ipykernel_launcher.py:11: RankWarning: Polyfit may be poorly conditioned\n",
      "  # This is added back by InteractiveShellApp.init_path()\n",
      "/Users/sdurgut/anaconda/lib/python3.6/site-packages/ipykernel_launcher.py:11: RankWarning: Polyfit may be poorly conditioned\n",
      "  # This is added back by InteractiveShellApp.init_path()\n",
      "/Users/sdurgut/anaconda/lib/python3.6/site-packages/ipykernel_launcher.py:11: RankWarning: Polyfit may be poorly conditioned\n",
      "  # This is added back by InteractiveShellApp.init_path()\n",
      "/Users/sdurgut/anaconda/lib/python3.6/site-packages/ipykernel_launcher.py:11: RankWarning: Polyfit may be poorly conditioned\n",
      "  # This is added back by InteractiveShellApp.init_path()\n",
      "/Users/sdurgut/anaconda/lib/python3.6/site-packages/ipykernel_launcher.py:11: RankWarning: Polyfit may be poorly conditioned\n",
      "  # This is added back by InteractiveShellApp.init_path()\n",
      "/Users/sdurgut/anaconda/lib/python3.6/site-packages/ipykernel_launcher.py:11: RankWarning: Polyfit may be poorly conditioned\n",
      "  # This is added back by InteractiveShellApp.init_path()\n",
      "/Users/sdurgut/anaconda/lib/python3.6/site-packages/ipykernel_launcher.py:11: RankWarning: Polyfit may be poorly conditioned\n",
      "  # This is added back by InteractiveShellApp.init_path()\n",
      "/Users/sdurgut/anaconda/lib/python3.6/site-packages/ipykernel_launcher.py:11: RankWarning: Polyfit may be poorly conditioned\n",
      "  # This is added back by InteractiveShellApp.init_path()\n",
      "/Users/sdurgut/anaconda/lib/python3.6/site-packages/ipykernel_launcher.py:11: RankWarning: Polyfit may be poorly conditioned\n",
      "  # This is added back by InteractiveShellApp.init_path()\n",
      "/Users/sdurgut/anaconda/lib/python3.6/site-packages/ipykernel_launcher.py:11: RankWarning: Polyfit may be poorly conditioned\n",
      "  # This is added back by InteractiveShellApp.init_path()\n",
      "/Users/sdurgut/anaconda/lib/python3.6/site-packages/ipykernel_launcher.py:11: RankWarning: Polyfit may be poorly conditioned\n",
      "  # This is added back by InteractiveShellApp.init_path()\n",
      "/Users/sdurgut/anaconda/lib/python3.6/site-packages/ipykernel_launcher.py:11: RankWarning: Polyfit may be poorly conditioned\n",
      "  # This is added back by InteractiveShellApp.init_path()\n",
      "/Users/sdurgut/anaconda/lib/python3.6/site-packages/ipykernel_launcher.py:11: RankWarning: Polyfit may be poorly conditioned\n",
      "  # This is added back by InteractiveShellApp.init_path()\n",
      "/Users/sdurgut/anaconda/lib/python3.6/site-packages/ipykernel_launcher.py:11: RankWarning: Polyfit may be poorly conditioned\n",
      "  # This is added back by InteractiveShellApp.init_path()\n",
      "/Users/sdurgut/anaconda/lib/python3.6/site-packages/ipykernel_launcher.py:11: RankWarning: Polyfit may be poorly conditioned\n",
      "  # This is added back by InteractiveShellApp.init_path()\n",
      "/Users/sdurgut/anaconda/lib/python3.6/site-packages/ipykernel_launcher.py:11: RankWarning: Polyfit may be poorly conditioned\n",
      "  # This is added back by InteractiveShellApp.init_path()\n",
      "/Users/sdurgut/anaconda/lib/python3.6/site-packages/ipykernel_launcher.py:11: RankWarning: Polyfit may be poorly conditioned\n",
      "  # This is added back by InteractiveShellApp.init_path()\n",
      "/Users/sdurgut/anaconda/lib/python3.6/site-packages/ipykernel_launcher.py:11: RankWarning: Polyfit may be poorly conditioned\n",
      "  # This is added back by InteractiveShellApp.init_path()\n",
      "/Users/sdurgut/anaconda/lib/python3.6/site-packages/ipykernel_launcher.py:11: RankWarning: Polyfit may be poorly conditioned\n",
      "  # This is added back by InteractiveShellApp.init_path()\n",
      "/Users/sdurgut/anaconda/lib/python3.6/site-packages/ipykernel_launcher.py:11: RankWarning: Polyfit may be poorly conditioned\n",
      "  # This is added back by InteractiveShellApp.init_path()\n",
      "/Users/sdurgut/anaconda/lib/python3.6/site-packages/ipykernel_launcher.py:11: RankWarning: Polyfit may be poorly conditioned\n",
      "  # This is added back by InteractiveShellApp.init_path()\n",
      "/Users/sdurgut/anaconda/lib/python3.6/site-packages/ipykernel_launcher.py:11: RankWarning: Polyfit may be poorly conditioned\n",
      "  # This is added back by InteractiveShellApp.init_path()\n",
      "/Users/sdurgut/anaconda/lib/python3.6/site-packages/ipykernel_launcher.py:11: RankWarning: Polyfit may be poorly conditioned\n",
      "  # This is added back by InteractiveShellApp.init_path()\n",
      "/Users/sdurgut/anaconda/lib/python3.6/site-packages/ipykernel_launcher.py:11: RankWarning: Polyfit may be poorly conditioned\n",
      "  # This is added back by InteractiveShellApp.init_path()\n",
      "/Users/sdurgut/anaconda/lib/python3.6/site-packages/ipykernel_launcher.py:11: RankWarning: Polyfit may be poorly conditioned\n",
      "  # This is added back by InteractiveShellApp.init_path()\n",
      "/Users/sdurgut/anaconda/lib/python3.6/site-packages/ipykernel_launcher.py:11: RankWarning: Polyfit may be poorly conditioned\n",
      "  # This is added back by InteractiveShellApp.init_path()\n",
      "/Users/sdurgut/anaconda/lib/python3.6/site-packages/ipykernel_launcher.py:11: RankWarning: Polyfit may be poorly conditioned\n",
      "  # This is added back by InteractiveShellApp.init_path()\n",
      "/Users/sdurgut/anaconda/lib/python3.6/site-packages/ipykernel_launcher.py:11: RankWarning: Polyfit may be poorly conditioned\n",
      "  # This is added back by InteractiveShellApp.init_path()\n",
      "/Users/sdurgut/anaconda/lib/python3.6/site-packages/ipykernel_launcher.py:11: RankWarning: Polyfit may be poorly conditioned\n",
      "  # This is added back by InteractiveShellApp.init_path()\n",
      "/Users/sdurgut/anaconda/lib/python3.6/site-packages/ipykernel_launcher.py:11: RankWarning: Polyfit may be poorly conditioned\n",
      "  # This is added back by InteractiveShellApp.init_path()\n",
      "/Users/sdurgut/anaconda/lib/python3.6/site-packages/ipykernel_launcher.py:11: RankWarning: Polyfit may be poorly conditioned\n",
      "  # This is added back by InteractiveShellApp.init_path()\n",
      "/Users/sdurgut/anaconda/lib/python3.6/site-packages/ipykernel_launcher.py:11: RankWarning: Polyfit may be poorly conditioned\n",
      "  # This is added back by InteractiveShellApp.init_path()\n",
      "/Users/sdurgut/anaconda/lib/python3.6/site-packages/ipykernel_launcher.py:11: RankWarning: Polyfit may be poorly conditioned\n",
      "  # This is added back by InteractiveShellApp.init_path()\n",
      "/Users/sdurgut/anaconda/lib/python3.6/site-packages/ipykernel_launcher.py:11: RankWarning: Polyfit may be poorly conditioned\n",
      "  # This is added back by InteractiveShellApp.init_path()\n",
      "/Users/sdurgut/anaconda/lib/python3.6/site-packages/ipykernel_launcher.py:11: RankWarning: Polyfit may be poorly conditioned\n",
      "  # This is added back by InteractiveShellApp.init_path()\n",
      "/Users/sdurgut/anaconda/lib/python3.6/site-packages/ipykernel_launcher.py:11: RankWarning: Polyfit may be poorly conditioned\n",
      "  # This is added back by InteractiveShellApp.init_path()\n",
      "/Users/sdurgut/anaconda/lib/python3.6/site-packages/ipykernel_launcher.py:11: RankWarning: Polyfit may be poorly conditioned\n",
      "  # This is added back by InteractiveShellApp.init_path()\n",
      "/Users/sdurgut/anaconda/lib/python3.6/site-packages/ipykernel_launcher.py:11: RankWarning: Polyfit may be poorly conditioned\n",
      "  # This is added back by InteractiveShellApp.init_path()\n",
      "/Users/sdurgut/anaconda/lib/python3.6/site-packages/ipykernel_launcher.py:11: RankWarning: Polyfit may be poorly conditioned\n",
      "  # This is added back by InteractiveShellApp.init_path()\n"
     ]
    },
    {
     "name": "stderr",
     "output_type": "stream",
     "text": [
      "/Users/sdurgut/anaconda/lib/python3.6/site-packages/ipykernel_launcher.py:11: RankWarning: Polyfit may be poorly conditioned\n",
      "  # This is added back by InteractiveShellApp.init_path()\n",
      "/Users/sdurgut/anaconda/lib/python3.6/site-packages/ipykernel_launcher.py:11: RankWarning: Polyfit may be poorly conditioned\n",
      "  # This is added back by InteractiveShellApp.init_path()\n",
      "/Users/sdurgut/anaconda/lib/python3.6/site-packages/ipykernel_launcher.py:11: RankWarning: Polyfit may be poorly conditioned\n",
      "  # This is added back by InteractiveShellApp.init_path()\n",
      "/Users/sdurgut/anaconda/lib/python3.6/site-packages/ipykernel_launcher.py:11: RankWarning: Polyfit may be poorly conditioned\n",
      "  # This is added back by InteractiveShellApp.init_path()\n",
      "/Users/sdurgut/anaconda/lib/python3.6/site-packages/ipykernel_launcher.py:11: RankWarning: Polyfit may be poorly conditioned\n",
      "  # This is added back by InteractiveShellApp.init_path()\n",
      "/Users/sdurgut/anaconda/lib/python3.6/site-packages/ipykernel_launcher.py:11: RankWarning: Polyfit may be poorly conditioned\n",
      "  # This is added back by InteractiveShellApp.init_path()\n",
      "/Users/sdurgut/anaconda/lib/python3.6/site-packages/ipykernel_launcher.py:11: RankWarning: Polyfit may be poorly conditioned\n",
      "  # This is added back by InteractiveShellApp.init_path()\n"
     ]
    }
   ],
   "source": [
    "def plotPopIncreasePerCountyBenchMark(myDfList_PopData_5YearIntervals,myDict_FPIS,countyCode):\n",
    "    yearList = [1976,1981,1986,1991,1996,2001,2006]\n",
    "    populationList = np.empty([len(yearList)])\n",
    "    \n",
    "    for i in range(len(myDfList_PopData_5YearIntervals)-1):\n",
    "        tmp = myDfList_PopData_5YearIntervals[i]\n",
    "        tmp = tmp[ tmp[\"COUNTYCODE\"] == countyCode ]\n",
    "        populationList[i] = tmp[\"POPULATION\"].sum()\n",
    "    \n",
    "    shrinkedYearList,shrinkedPopList = shrinkFitRange(yearList,populationList)\n",
    "    p = np.polyfit(shrinkedYearList,shrinkedPopList,4)\n",
    "    f = np.poly1d(p)\n",
    "    \n",
    "    # calculate new x's and y's\n",
    "    x_new = np.linspace(shrinkedYearList[0], shrinkedYearList[-1], 100)\n",
    "    y_new = f(x_new)\n",
    "    \n",
    "    \n",
    "    fig, ax = plt.subplots( nrows=1, ncols=1 )  # create figure & 1 axis\n",
    "    ax.plot(yearList,populationList,\"ro\", x_new, y_new)\n",
    "    # these are matplotlib.patch.Patch properties\n",
    "    props = dict(boxstyle='round', facecolor='wheat', alpha=0.5)\n",
    "    # place a text box in upper left in axes coords\n",
    "    #ax.text(0.40, 0.15, textstr, transform=ax.transAxes, fontsize=14,verticalalignment='top', bbox=props)\n",
    "    plt.xlabel('5 Year Intervals')\n",
    "    plt.ylabel('Average Population/ 5 Years')\n",
    "    plt.title(myDict_FPIS[\"COUNTY\"][countyCode])\n",
    "    #plt.show()\n",
    "    figName = '../Fig/LinearPopulationIncreaseFit_'+countyCode+'_5Years.pdf'\n",
    "    fig.savefig(figName)\n",
    "    plt.close(fig) # close the figure\n",
    "    \n",
    "    \n",
    "    return f(2011)\n",
    "\n",
    "populationPrediction_2011_2015 = {}\n",
    "for countyCode in myCountyCodeList:\n",
    "    num = plotPopIncreasePerCountyBenchMark(myDfList_PopData_5YearIntervals,myDict_FPIS,countyCode)\n",
    "    if num<0:\n",
    "        populationPrediction_2011_2015[countyCode] = 0\n",
    "    else:\n",
    "        populationPrediction_2011_2015[countyCode] = num\n"
   ]
  },
  {
   "cell_type": "code",
   "execution_count": 93,
   "metadata": {
    "collapsed": true
   },
   "outputs": [],
   "source": [
    "#populationPrediction_2011_2015\n",
    "#crashRatePrediction_2011_2015\n",
    "\n",
    "\n",
    "\n",
    "df_Crash2011_2015 = pd.DataFrame()\n",
    "df_Crash2011_2015[\"CountyCode\"] = crashRatePrediction_2011_2015.keys()\n",
    "df_Crash2011_2015[\"Fatals\"] = crashRatePrediction_2011_2015.values()\n",
    "\n",
    "df_Population2011_2015 = pd.DataFrame()\n",
    "df_Population2011_2015[\"CountyCode\"] = populationPrediction_2011_2015.keys()\n",
    "df_Population2011_2015[\"Population\"] = populationPrediction_2011_2015.values()\n",
    "\n",
    "df_2011_2015Prediction =  pd.merge(df_Crash2011_2015, df_Population2011_2015, on='CountyCode', how='outer')\n",
    "df_2011_2015Prediction[\"FatalityRatePrediction\"] = 10000*df_2011_2015Prediction[\"Fatals\"]/df_2011_2015Prediction[\"Population\"]\n",
    "df_2011_2015Prediction= df_2011_2015Prediction.replace([np.inf, -np.inf], np.nan).dropna(subset=[\"FatalityRatePrediction\"], how=\"all\")\n",
    "\n",
    "df_2011_2015Prediction.to_csv(\"../CreateSVG/FatalityPredictionData_2011_2015.csv\",header=False, index = False)\n",
    "\n",
    "\n",
    "\n",
    "df_2011_2015ActualData = pd.merge(myDfList_AccidentData_5YearIntervals[-1], myDfList_PopData_5YearIntervals[-1], on='COUNTYCODE', how='inner')\n",
    "df_2011_2015ActualData[\"FatalityRateActual\"] = 10000*df_2011_2015ActualData[\"FATALS\"]/df_2011_2015ActualData[\"POPULATION\"]\n",
    "df_2011_2015ActualData = df_2011_2015ActualData.rename(columns={'COUNTYCODE': 'CountyCode', 'FATALS': 'Fatals', 'POPULATION': 'Population',\"YEAR\":\"Year\"})\n",
    "df_2011_2015ActualData.to_csv(\"../CreateSVG/FatalityActualData_2011_2015.csv\",header=False, index = False)\n",
    "\n",
    "# df_2011_2015Prediction\n",
    "\n"
   ]
  },
  {
   "cell_type": "code",
   "execution_count": 143,
   "metadata": {},
   "outputs": [
    {
     "data": {
      "text/plain": [
       "10.980059623624442"
      ]
     },
     "execution_count": 143,
     "metadata": {},
     "output_type": "execute_result"
    }
   ],
   "source": [
    "df_BenchMark = pd.merge(df_2011_2015Prediction, df_2011_2015ActualData, on='CountyCode', how='inner')\n",
    "df_BenchMark[\"Error\"] = 100*abs(df_BenchMark[\"FatalityRateActual\"]-df_BenchMark[\"FatalityRatePrediction\"])/df_BenchMark[\"FatalityRateActual\"]\n",
    "df_BenchMark[\"Error\"].mean()\n",
    "df_Error = df_BenchMark[df_BenchMark[\"Population_y\"] > 50000]\n",
    "df_Error[\"Error\"].mean()\n"
   ]
  },
  {
   "cell_type": "code",
   "execution_count": 144,
   "metadata": {},
   "outputs": [
    {
     "data": {
      "text/html": [
       "<div>\n",
       "<style>\n",
       "    .dataframe thead tr:only-child th {\n",
       "        text-align: right;\n",
       "    }\n",
       "\n",
       "    .dataframe thead th {\n",
       "        text-align: left;\n",
       "    }\n",
       "\n",
       "    .dataframe tbody tr th {\n",
       "        vertical-align: top;\n",
       "    }\n",
       "</style>\n",
       "<table border=\"1\" class=\"dataframe\">\n",
       "  <thead>\n",
       "    <tr style=\"text-align: right;\">\n",
       "      <th></th>\n",
       "      <th>Actual</th>\n",
       "      <th>Prediction</th>\n",
       "    </tr>\n",
       "  </thead>\n",
       "  <tbody>\n",
       "    <tr>\n",
       "      <th>Actual</th>\n",
       "      <td>1.000000</td>\n",
       "      <td>0.885615</td>\n",
       "    </tr>\n",
       "    <tr>\n",
       "      <th>Prediction</th>\n",
       "      <td>0.885615</td>\n",
       "      <td>1.000000</td>\n",
       "    </tr>\n",
       "  </tbody>\n",
       "</table>\n",
       "</div>"
      ],
      "text/plain": [
       "              Actual  Prediction\n",
       "Actual      1.000000    0.885615\n",
       "Prediction  0.885615    1.000000"
      ]
     },
     "execution_count": 144,
     "metadata": {},
     "output_type": "execute_result"
    }
   ],
   "source": [
    "tmp = pd.DataFrame()\n",
    "tmp[\"Actual\"] = df_BenchMark[\"FatalityRateActual\"]\n",
    "tmp[\"Prediction\"] = df_BenchMark[\"FatalityRatePrediction\"]\n",
    "tmp.corr()"
   ]
  },
  {
   "cell_type": "code",
   "execution_count": 145,
   "metadata": {},
   "outputs": [
    {
     "data": {
      "image/png": "[encoded data removed]",
      "text/plain": [
       "<matplotlib.figure.Figure at 0x1b5e5ceb8>"
      ]
     },
     "metadata": {},
     "output_type": "display_data"
    }
   ],
   "source": [
    "# def pickColor(y):\n",
    "#     colors = [\"#f44a41\",\"#f47c41\",\"#f4cd41\",\"#e8f441\",\"#b2f441\",\"#70f441\"]\n",
    "#     if y>50: return colors[0]\n",
    "#     elif y>40: return colors[1]\n",
    "#     elif y>30: return colors[2]\n",
    "#     elif y>20: return colors[3]\n",
    "#     elif y>10: return colors[4]\n",
    "#     else: return colors[5]\n",
    "    \n",
    "    \n",
    "df_Error.plot(x=\"CountyCode\",y=\"Error\",style='o')\n",
    "plt.xlabel('County Code')\n",
    "plt.ylabel('Percentage Error')\n",
    "plt.title(\"Counties where population > 50000\")\n",
    "plt.savefig(\"../Fig/PercentageError_5Years.pdf\")\n",
    "plt.show()\n"
   ]
  },
  {
   "cell_type": "code",
   "execution_count": 146,
   "metadata": {},
   "outputs": [
    {
     "data": {
      "image/png": "[encoded data removed]",
      "text/plain": [
       "<matplotlib.figure.Figure at 0x1596e09b0>"
      ]
     },
     "metadata": {},
     "output_type": "display_data"
    }
   ],
   "source": [
    "fig = plt.figure()\n",
    "ax = plt.gca()\n",
    "\n",
    "ax.scatter(tmp[\"Actual\"],tmp[\"Prediction\"], c='green', alpha=0.5, edgecolors='none')\n",
    "# ax.set_yscale('log')\n",
    "# ax.set_xscale('log')\n",
    "plt.xlabel(\"Actual\")\n",
    "plt.ylabel(\"Prediction\")\n",
    "plt.show()\n",
    "fig.savefig(\"../Fig/Scatter_ActualvsPrediction_5Years.pdf\")\n",
    "plt.close(fig) # close the figure"
   ]
  },
  {
   "cell_type": "code",
   "execution_count": 147,
   "metadata": {},
   "outputs": [
    {
     "name": "stderr",
     "output_type": "stream",
     "text": [
      "/Users/sdurgut/anaconda/lib/python3.6/site-packages/ipykernel_launcher.py:2: SettingWithCopyWarning: \n",
      "A value is trying to be set on a copy of a slice from a DataFrame.\n",
      "Try using .loc[row_indexer,col_indexer] = value instead\n",
      "\n",
      "See the caveats in the documentation: http://pandas.pydata.org/pandas-docs/stable/indexing.html#indexing-view-versus-copy\n",
      "  \n"
     ]
    },
    {
     "data": {
      "text/html": [
       "<div>\n",
       "<style>\n",
       "    .dataframe thead tr:only-child th {\n",
       "        text-align: right;\n",
       "    }\n",
       "\n",
       "    .dataframe thead th {\n",
       "        text-align: left;\n",
       "    }\n",
       "\n",
       "    .dataframe tbody tr th {\n",
       "        vertical-align: top;\n",
       "    }\n",
       "</style>\n",
       "<table border=\"1\" class=\"dataframe\">\n",
       "  <thead>\n",
       "    <tr style=\"text-align: right;\">\n",
       "      <th></th>\n",
       "      <th>CountyCode</th>\n",
       "      <th>Fatals_x</th>\n",
       "      <th>Population_x</th>\n",
       "      <th>FatalityRatePrediction</th>\n",
       "      <th>Fatals_y</th>\n",
       "      <th>Population_y</th>\n",
       "      <th>FatalityRateActual</th>\n",
       "      <th>Error</th>\n",
       "      <th>diff</th>\n",
       "    </tr>\n",
       "  </thead>\n",
       "  <tbody>\n",
       "    <tr>\n",
       "      <th>248</th>\n",
       "      <td>NaN</td>\n",
       "      <td>NaN</td>\n",
       "      <td>NaN</td>\n",
       "      <td>NaN</td>\n",
       "      <td>NaN</td>\n",
       "      <td>NaN</td>\n",
       "      <td>NaN</td>\n",
       "      <td>NaN</td>\n",
       "      <td>13.237707</td>\n",
       "    </tr>\n",
       "    <tr>\n",
       "      <th>2608</th>\n",
       "      <td>NaN</td>\n",
       "      <td>NaN</td>\n",
       "      <td>NaN</td>\n",
       "      <td>NaN</td>\n",
       "      <td>NaN</td>\n",
       "      <td>NaN</td>\n",
       "      <td>NaN</td>\n",
       "      <td>NaN</td>\n",
       "      <td>10.319917</td>\n",
       "    </tr>\n",
       "    <tr>\n",
       "      <th>2624</th>\n",
       "      <td>NaN</td>\n",
       "      <td>NaN</td>\n",
       "      <td>NaN</td>\n",
       "      <td>NaN</td>\n",
       "      <td>NaN</td>\n",
       "      <td>NaN</td>\n",
       "      <td>NaN</td>\n",
       "      <td>NaN</td>\n",
       "      <td>22.779043</td>\n",
       "    </tr>\n",
       "  </tbody>\n",
       "</table>\n",
       "</div>"
      ],
      "text/plain": [
       "     CountyCode  Fatals_x  Population_x  FatalityRatePrediction  Fatals_y  \\\n",
       "248         NaN       NaN           NaN                     NaN       NaN   \n",
       "2608        NaN       NaN           NaN                     NaN       NaN   \n",
       "2624        NaN       NaN           NaN                     NaN       NaN   \n",
       "\n",
       "      Population_y  FatalityRateActual  Error       diff  \n",
       "248            NaN                 NaN    NaN  13.237707  \n",
       "2608           NaN                 NaN    NaN  10.319917  \n",
       "2624           NaN                 NaN    NaN  22.779043  "
      ]
     },
     "execution_count": 147,
     "metadata": {},
     "output_type": "execute_result"
    }
   ],
   "source": [
    "tmp = df_BenchMark\n",
    "test[\"diff\"] = tmp[\"FatalityRateActual\"]-tmp[\"FatalityRatePrediction\"]\n",
    "test = test[test[\"diff\"]>10]\n",
    "test"
   ]
  },
  {
   "cell_type": "code",
   "execution_count": null,
   "metadata": {
    "collapsed": true
   },
   "outputs": [],
   "source": []
  }
 ],
 "metadata": {
  "kernelspec": {
   "display_name": "Python 3",
   "language": "python",
   "name": "python3"
  },
  "language_info": {
   "codemirror_mode": {
    "name": "ipython",
    "version": 3
   },
   "file_extension": ".py",
   "mimetype": "text/x-python",
   "name": "python",
   "nbconvert_exporter": "python",
   "pygments_lexer": "ipython3",
   "version": "3.6.1"
  }
 },
 "nbformat": 4,
 "nbformat_minor": 2
}
